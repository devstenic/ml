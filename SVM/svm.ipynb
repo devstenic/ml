{
  "nbformat": 4,
  "nbformat_minor": 0,
  "metadata": {
    "colab": {
      "name": "svm.ipynb",
      "provenance": [],
      "collapsed_sections": []
    },
    "kernelspec": {
      "name": "python3",
      "display_name": "Python 3"
    },
    "language_info": {
      "name": "python"
    }
  },
  "cells": [
    {
      "cell_type": "markdown",
      "metadata": {
        "id": "h4CJWXCtQ1cx"
      },
      "source": [
        "# SVM"
      ]
    },
    {
      "cell_type": "markdown",
      "metadata": {
        "id": "OtIhp7t2ItV2"
      },
      "source": [
        "### Exercise 1. "
      ]
    },
    {
      "cell_type": "code",
      "metadata": {
        "id": "lmGgRX1fHpCo"
      },
      "source": [
        "from sklearn.datasets import load_iris\n",
        "import numpy as np\n",
        "from sklearn.model_selection import train_test_split\n",
        "import cvxopt"
      ],
      "execution_count": 17,
      "outputs": []
    },
    {
      "cell_type": "code",
      "metadata": {
        "id": "_TVEAdrxIWd-"
      },
      "source": [
        "iris = load_iris()\n",
        "data_set = iris.data\n",
        "labels = iris.target "
      ],
      "execution_count": 18,
      "outputs": []
    },
    {
      "cell_type": "code",
      "metadata": {
        "id": "815HkhBWNBFZ"
      },
      "source": [
        "def build_kernel(data_set, kernel_type='linear', d=2):\n",
        "    kernel = np.dot(data_set, data_set.T)\n",
        "    if kernel_type == 'rbf':\n",
        "        sigma = 1.0\n",
        "        objects_count = len(data_set)\n",
        "        b = np.ones((len(data_set), 1))\n",
        "        kernel -= 0.5 * (np.dot((np.diag(kernel)*np.ones((1, objects_count))).T, b.T)\n",
        "                         + np.dot(b, (np.diag(kernel) * np.ones((1, objects_count))).T.T))\n",
        "        kernel = np.exp(kernel / (2. * sigma ** 2))\n",
        "    elif kernel_type == 'poly':\n",
        "        kernel = kernel**d\n",
        "    return kernel"
      ],
      "execution_count": 19,
      "outputs": []
    },
    {
      "cell_type": "code",
      "metadata": {
        "colab": {
          "base_uri": "https://localhost:8080/"
        },
        "id": "WiLraE1cIap1",
        "outputId": "35ab0695-f5d8-426d-b437-e5257a1c14f3"
      },
      "source": [
        "build_kernel(data_set, kernel_type='poly',)"
      ],
      "execution_count": 20,
      "outputs": [
        {
          "output_type": "execute_result",
          "data": {
            "text/plain": [
              "array([[1620.8676, 1405.5001, 1371.2209, ..., 2634.7689, 2656.3716,\n",
              "        2312.6481],\n",
              "       [1405.5001, 1225.7001, 1189.5601, ..., 2355.1609, 2361.96  ,\n",
              "        2062.0681],\n",
              "       [1371.2209, 1189.5601, 1160.0836, ..., 2238.2361, 2256.25  ,\n",
              "        1964.2624],\n",
              "       ...,\n",
              "       [2634.7689, 2355.1609, 2238.2361, ..., 6771.6441, 6918.9124,\n",
              "        6001.6009],\n",
              "       [2656.3716, 2361.96  , 2256.25  , ..., 6918.9124, 7131.8025,\n",
              "        6155.9716],\n",
              "       [2312.6481, 2062.0681, 1964.2624, ..., 6001.6009, 6155.9716,\n",
              "        5337.7636]])"
            ]
          },
          "metadata": {
            "tags": []
          },
          "execution_count": 20
        }
      ]
    },
    {
      "cell_type": "markdown",
      "metadata": {
        "id": "JQ_aZYBFI4eY"
      },
      "source": [
        "### Exercise 2."
      ]
    },
    {
      "cell_type": "code",
      "metadata": {
        "id": "qWOayuL1I67z"
      },
      "source": [
        "def choose_set_for_label(data_set, label):\n",
        "    train_data_set, test_data_set, train_labels, test_labels = train_test_split(data_set, label)\n",
        "    return train_data_set, test_data_set, train_labels, test_labels"
      ],
      "execution_count": 21,
      "outputs": []
    },
    {
      "cell_type": "code",
      "metadata": {
        "id": "mMLKsX6rJkl1"
      },
      "source": [
        "def get_labels_count(data_set):\n",
        "    return len(data_set)"
      ],
      "execution_count": 22,
      "outputs": []
    },
    {
      "cell_type": "code",
      "metadata": {
        "id": "0hc5Qo0tJmsi"
      },
      "source": [
        "def train(train_data_set, train_labels, kernel_type='linear', C=10, threshold=1e-5):\n",
        "    kernel = build_kernel(train_data_set, kernel_type=kernel_type)\n",
        "\n",
        "    P = train_labels * train_labels.transpose() * kernel\n",
        "    q = -np.ones((objects_count, 1))\n",
        "    G = np.concatenate((np.eye(objects_count), -np.eye(objects_count)))\n",
        "    h = np.concatenate((C * np.ones((objects_count, 1)), np.zeros((objects_count, 1))))\n",
        "\n",
        "    A = train_labels.reshape(1, objects_count)\n",
        "    A = A.astype(float)\n",
        "    b = 0.0\n",
        "\n",
        "    sol = cvxopt.solvers.qp(cvxopt.matrix(P), cvxopt.matrix(q), cvxopt.matrix(G), cvxopt.matrix(h), cvxopt.matrix(A), cvxopt.matrix(b))\n",
        "\n",
        "    lambdas = np.array(sol['x'])\n",
        "\n",
        "    support_vectors_id = np.where(lambdas > threshold)[0]\n",
        "    vector_number = len(support_vectors_id)\n",
        "    support_vectors = train_data_set[support_vectors_id, :]\n",
        "\n",
        "    lambdas = lambdas[support_vectors_id]\n",
        "    targets = train_labels[support_vectors_id]\n",
        "\n",
        "    b = np.sum(targets)\n",
        "    for n in range(vector_number):\n",
        "        b -= np.sum(lambdas * targets * np.reshape(kernel[support_vectors_id[n], support_vectors_id], (vector_number, 1)))\n",
        "    b /= len(lambdas)\n",
        "\n",
        "    return lambdas, support_vectors, support_vectors_id, b, targets, vector_number\n",
        "\n",
        "def build_kernel(data_set, kernel_type='linear'):\n",
        "    kernel = np.dot(data_set, data_set.T)\n",
        "    if kernel_type == 'rbf':\n",
        "        sigma = 1.0\n",
        "        objects_count = len(data_set)\n",
        "        b = np.ones((len(data_set), 1))\n",
        "        kernel -= 0.5 * (np.dot((np.diag(kernel)*np.ones((1, objects_count))).T, b.T)\n",
        "                         + np.dot(b, (np.diag(kernel) * np.ones((1, objects_count))).T.T))\n",
        "        kernel = np.exp(kernel / (2. * sigma ** 2))\n",
        "    return kernel\n",
        "\n",
        "def classify_rbf(test_data_set, train_data_set, lambdas, targets, b, vector_number, support_vectors, support_vectors_id):\n",
        "    kernel = np.dot(test_data_set, support_vectors.T)\n",
        "    sigma = 1.0\n",
        "    #K = np.dot(test_data_set, support_vectors.T)\n",
        "    #kernel = build_kernel(train_data_set, kernel_type='rbf')\n",
        "    c = (1. / sigma * np.sum(test_data_set ** 2, axis=1) * np.ones((1, np.shape(test_data_set)[0]))).T\n",
        "    c = np.dot(c, np.ones((1, np.shape(kernel)[1])))\n",
        "    #aa = np.dot((np.diag(K)*np.ones((1,len(test_data_set)))).T[support_vectors_id], np.ones((1, np.shape(K)[0]))).T\n",
        "    sv = (np.diag(np.dot(train_data_set, train_data_set.T))*np.ones((1,len(train_data_set)))).T[support_vectors_id]\n",
        "    aa = np.dot(sv,np.ones((1,np.shape(kernel)[0]))).T\n",
        "    kernel = kernel - 0.5 * c - 0.5 * aa\n",
        "    kernel = np.exp(kernel / (2. * sigma ** 2))\n",
        "\n",
        "    y = np.zeros((np.shape(test_data_set)[0], 1))\n",
        "    for j in range(np.shape(test_data_set)[0]):\n",
        "        for i in range(vector_number):\n",
        "            y[j] += lambdas[i] * targets[i] * kernel[j, i]\n",
        "        y[j] += b\n",
        "    return np.sign(y)"
      ],
      "execution_count": 23,
      "outputs": []
    },
    {
      "cell_type": "code",
      "metadata": {
        "colab": {
          "base_uri": "https://localhost:8080/"
        },
        "id": "FT6-o_LJJofR",
        "outputId": "00f68052-1f36-450f-9f0d-c81a4b722bf4"
      },
      "source": [
        "# modify this part \n",
        "\n",
        "data_set = data_set[labels!=2]\n",
        "labels = labels[labels!=2]\n",
        "train_data_set, test_data_set, train_labels, test_labels = choose_set_for_label(data_set, labels)\n",
        "objects_count = get_labels_count(train_labels)\n",
        "\n",
        "lambdas, support_vectors, support_vectors_id, b, targets, vector_number = train(train_data_set, train_labels, kernel_type='rbf')\n",
        "predicted = classify_rbf(test_data_set, train_data_set, lambdas, targets, b, vector_number, support_vectors, support_vectors_id)\n",
        "predicted = list(predicted.astype(int))\n",
        "\n",
        "from sklearn.metrics import accuracy_score\n",
        "\n",
        "print(accuracy_score(predicted, test_labels))"
      ],
      "execution_count": 24,
      "outputs": [
        {
          "output_type": "stream",
          "text": [
            "     pcost       dcost       gap    pres   dres\n",
            " 0: -2.3832e+03 -1.0610e+04  4e+04  2e+00  7e-15\n",
            " 1: -6.2775e+02 -6.0279e+03  1e+04  3e-01  1e-14\n",
            " 2: -2.5985e+02 -1.3185e+03  1e+03  3e-02  1e-13\n",
            " 3: -2.8267e+02 -4.2095e+02  2e+02  4e-03  2e-14\n",
            " 4: -3.5806e+02 -3.6413e+02  7e+00  1e-04  2e-14\n",
            " 5: -3.5998e+02 -3.6004e+02  7e-02  1e-06  4e-15\n",
            " 6: -3.6000e+02 -3.6000e+02  7e-04  1e-08  4e-15\n",
            " 7: -3.6000e+02 -3.6000e+02  7e-06  1e-10  6e-15\n",
            "Optimal solution found.\n",
            "0.56\n"
          ],
          "name": "stdout"
        }
      ]
    }
  ]
}