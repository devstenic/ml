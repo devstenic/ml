{
  "nbformat": 4,
  "nbformat_minor": 0,
  "metadata": {
    "colab": {
      "name": "clustering.ipynb",
      "provenance": [],
      "collapsed_sections": [],
      "toc_visible": true
    },
    "kernelspec": {
      "name": "python3",
      "display_name": "Python 3"
    },
    "language_info": {
      "name": "python"
    }
  },
  "cells": [
    {
      "cell_type": "markdown",
      "metadata": {
        "id": "7f4Ng6rd9oad"
      },
      "source": [
        "#Clustering"
      ]
    },
    {
      "cell_type": "markdown",
      "metadata": {
        "id": "8wpuUmC49veY"
      },
      "source": [
        "### Exercise 1."
      ]
    },
    {
      "cell_type": "code",
      "metadata": {
        "id": "vjt7cUBeFNJU"
      },
      "source": [
        "import numpy\n",
        "import random\n",
        "import numpy as np\n",
        "import pandas as pd\n",
        "from math import sqrt\n",
        "\n",
        "import matplotlib.image as img\n",
        "from PIL import Image\n",
        "\n",
        "from matplotlib import pyplot as plt\n",
        "from mpl_toolkits.mplot3d import Axes3D\n",
        "\n",
        "from IPython.display import Image"
      ],
      "execution_count": 1214,
      "outputs": []
    },
    {
      "cell_type": "code",
      "metadata": {
        "colab": {
          "base_uri": "https://localhost:8080/",
          "height": 295
        },
        "id": "rOpeG6xD2NQC",
        "outputId": "76ed8757-3479-4d7c-97a0-f308b5cf86ab"
      },
      "source": [
        "X=np.array([(4,1940),(9,2960),(9,4630),(78,1528),(90,2040),(50,3700),(467,14815),(509,15200),(290,15700),(215,6045)])\n",
        "\n",
        "x1 = np.array(X[:,0])\n",
        "x2 = np.array(X[:,1])\n",
        "\n",
        "fig, ax = plt.subplots()\n",
        "ax.scatter(x1,x2)\n",
        "ax.set(xlabel='Seats count', ylabel='Distance range (km)',\n",
        "       title='Aircrafts')\n",
        "ax.grid()\n",
        "plt.show()"
      ],
      "execution_count": 1215,
      "outputs": [
        {
          "output_type": "display_data",
          "data": {
            "image/png": "[encoded data removed]",
            "text/plain": [
              "<Figure size 432x288 with 1 Axes>"
            ]
          },
          "metadata": {
            "tags": [],
            "needs_background": "light"
          }
        }
      ]
    },
    {
      "cell_type": "code",
      "metadata": {
        "id": "Re7l9j2y2P_g"
      },
      "source": [
        "train_data = np.array(X)\n",
        "max_values = train_data.max(0)\n",
        "\n",
        "X_norm = np.divide(train_data,max_values)"
      ],
      "execution_count": 1216,
      "outputs": []
    },
    {
      "cell_type": "code",
      "metadata": {
        "colab": {
          "base_uri": "https://localhost:8080/",
          "height": 335
        },
        "id": "Si_AOZtt2SQ3",
        "outputId": "13abe720-9e1b-4f6a-f543-93aded9fdc0b"
      },
      "source": [
        "pd.DataFrame(X_norm, columns = ['Seats count','Distance range (km)'])"
      ],
      "execution_count": 1217,
      "outputs": [
        {
          "output_type": "execute_result",
          "data": {
            "text/html": [
              "<div>\n",
              "<style scoped>\n",
              "    .dataframe tbody tr th:only-of-type {\n",
              "        vertical-align: middle;\n",
              "    }\n",
              "\n",
              "    .dataframe tbody tr th {\n",
              "        vertical-align: top;\n",
              "    }\n",
              "\n",
              "    .dataframe thead th {\n",
              "        text-align: right;\n",
              "    }\n",
              "</style>\n",
              "<table border=\"1\" class=\"dataframe\">\n",
              "  <thead>\n",
              "    <tr style=\"text-align: right;\">\n",
              "      <th></th>\n",
              "      <th>Seats count</th>\n",
              "      <th>Distance range (km)</th>\n",
              "    </tr>\n",
              "  </thead>\n",
              "  <tbody>\n",
              "    <tr>\n",
              "      <th>0</th>\n",
              "      <td>0.007859</td>\n",
              "      <td>0.123567</td>\n",
              "    </tr>\n",
              "    <tr>\n",
              "      <th>1</th>\n",
              "      <td>0.017682</td>\n",
              "      <td>0.188535</td>\n",
              "    </tr>\n",
              "    <tr>\n",
              "      <th>2</th>\n",
              "      <td>0.017682</td>\n",
              "      <td>0.294904</td>\n",
              "    </tr>\n",
              "    <tr>\n",
              "      <th>3</th>\n",
              "      <td>0.153242</td>\n",
              "      <td>0.097325</td>\n",
              "    </tr>\n",
              "    <tr>\n",
              "      <th>4</th>\n",
              "      <td>0.176817</td>\n",
              "      <td>0.129936</td>\n",
              "    </tr>\n",
              "    <tr>\n",
              "      <th>5</th>\n",
              "      <td>0.098232</td>\n",
              "      <td>0.235669</td>\n",
              "    </tr>\n",
              "    <tr>\n",
              "      <th>6</th>\n",
              "      <td>0.917485</td>\n",
              "      <td>0.943631</td>\n",
              "    </tr>\n",
              "    <tr>\n",
              "      <th>7</th>\n",
              "      <td>1.000000</td>\n",
              "      <td>0.968153</td>\n",
              "    </tr>\n",
              "    <tr>\n",
              "      <th>8</th>\n",
              "      <td>0.569745</td>\n",
              "      <td>1.000000</td>\n",
              "    </tr>\n",
              "    <tr>\n",
              "      <th>9</th>\n",
              "      <td>0.422397</td>\n",
              "      <td>0.385032</td>\n",
              "    </tr>\n",
              "  </tbody>\n",
              "</table>\n",
              "</div>"
            ],
            "text/plain": [
              "   Seats count  Distance range (km)\n",
              "0     0.007859             0.123567\n",
              "1     0.017682             0.188535\n",
              "2     0.017682             0.294904\n",
              "3     0.153242             0.097325\n",
              "4     0.176817             0.129936\n",
              "5     0.098232             0.235669\n",
              "6     0.917485             0.943631\n",
              "7     1.000000             0.968153\n",
              "8     0.569745             1.000000\n",
              "9     0.422397             0.385032"
            ]
          },
          "metadata": {
            "tags": []
          },
          "execution_count": 1217
        }
      ]
    },
    {
      "cell_type": "code",
      "metadata": {
        "colab": {
          "base_uri": "https://localhost:8080/",
          "height": 295
        },
        "id": "0EnBNkpx2UKi",
        "outputId": "e7531da5-e926-4c5f-ad66-64a4632de9d9"
      },
      "source": [
        "x1 = np.array(X_norm[:,0])\n",
        "x2 = np.array(X_norm[:,1])\n",
        "\n",
        "fig, ax = plt.subplots()\n",
        "ax.scatter(x1,x2)\n",
        "ax.set(xlabel='Seats count', ylabel='Distance range (km)',\n",
        "       title='Aircrafts')\n",
        "ax.grid()\n",
        "plt.show()"
      ],
      "execution_count": 1218,
      "outputs": [
        {
          "output_type": "display_data",
          "data": {
            "image/png": "[encoded data removed]",
            "text/plain": [
              "<Figure size 432x288 with 1 Axes>"
            ]
          },
          "metadata": {
            "tags": [],
            "needs_background": "light"
          }
        }
      ]
    },
    {
      "cell_type": "code",
      "metadata": {
        "colab": {
          "base_uri": "https://localhost:8080/"
        },
        "id": "Nw-btl4M2WG2",
        "outputId": "68506413-3460-4860-e043-d49e90132e83"
      },
      "source": [
        "data_set = X_norm\n",
        "%store data_set"
      ],
      "execution_count": 1219,
      "outputs": [
        {
          "output_type": "stream",
          "text": [
            "Stored 'data_set' (ndarray)\n"
          ],
          "name": "stdout"
        }
      ]
    },
    {
      "cell_type": "code",
      "metadata": {
        "colab": {
          "base_uri": "https://localhost:8080/"
        },
        "id": "8Ihxy0SW2msi",
        "outputId": "e719201b-2c46-4b39-e41d-389ed5970359"
      },
      "source": [
        "print(data_set[0])\n",
        "print(centers[0])"
      ],
      "execution_count": 1220,
      "outputs": [
        {
          "output_type": "stream",
          "text": [
            "[0.00785855 0.12356688]\n",
            "[0.87113726 0.73003923 0.15733334]\n"
          ],
          "name": "stdout"
        }
      ]
    },
    {
      "cell_type": "code",
      "metadata": {
        "id": "dkOee7CDFXWj"
      },
      "source": [
        "%store -r data_set\n",
        "\n",
        "### change here:\n",
        "groups = 3\n",
        "\n",
        "error_margin = 0.01\n",
        "m=2\n",
        "assignation=np.zeros((len(data_set),groups))\n",
        "\n",
        "\n",
        "centers = np.array([[0.01229673, 0.25183492],\n",
        "       [0.3689626 , 0.61904127],\n",
        "       [0.95732769, 0.45059586]])\n",
        "\n",
        "def calculate_distance(x,v):\n",
        "    return sqrt((x[0]-v[0])**2+(x[1]-v[1])**2)\n",
        "\n",
        "def calculate_new_centers(u):\n",
        "    new_centers=[]\n",
        "    for c in range(groups):\n",
        "        u_x_vector=np.zeros(2)\n",
        "        u_scalar=0.0\n",
        "        for i in range(len(data_set)):\n",
        "            u_scalar = u_scalar+(u[i][c]**m)\n",
        "            u_x_vector=np.add(u_x_vector,np.multiply(u[i][c]**m,data_set[i]))\n",
        "        new_centers.append(np.divide(u_x_vector,u_scalar))\n",
        "    return new_centers\n",
        "\n",
        "def calculate_differences(new_assignation, assignation):     \n",
        "    return np.sum(np.abs(np.subtract(assignation,new_assignation)))\n",
        "\n",
        "def cluster_hcm(assignation,centers):\n",
        "    difference_limit_not_achieved=True\n",
        "    new_centers = centers\n",
        "    iter=0\n",
        "    while difference_limit_not_achieved:\n",
        "        new_assignation=[]\n",
        "        for i in range(len(data_set)):\n",
        "            new_assignation.append(calculate_u_three(data_set[i], new_centers))\n",
        "        new_centers = calculate_new_centers(new_assignation)\n",
        "        if iter>0:\n",
        "            if calculate_differences(new_assignation, assignation) < error_margin:\n",
        "                difference_limit_not_achieved=False\n",
        "        assignation=new_assignation\n",
        "        iter=iter+1\n",
        "    return new_assignation, new_centers"
      ],
      "execution_count": 1221,
      "outputs": []
    },
    {
      "cell_type": "code",
      "metadata": {
        "id": "6K4mENpRwx0V"
      },
      "source": [
        "def calculate_u_three(x, centers):\n",
        "    u_array = np.zeros(groups)\n",
        "    minimal_distance = []\n",
        "    for group in range(groups):\n",
        "        minimal_distance.append(calculate_distance(x, centers[group]))       \n",
        "    min_group_id = np.argmin(minimal_distance)\n",
        "    u_array[min_group_id] = 1\n",
        "    return u_array"
      ],
      "execution_count": 1222,
      "outputs": []
    },
    {
      "cell_type": "code",
      "metadata": {
        "colab": {
          "base_uri": "https://localhost:8080/",
          "height": 133
        },
        "id": "EDvUf4JrwzL3",
        "outputId": "f702b6c0-26e7-43a6-d96c-684cf84957d0"
      },
      "source": [
        "new_assignation_hcm3, new_centers_hcm3 = cluster_hcm(assignation, centers)\n",
        "pd.DataFrame(new_centers_hcm3)"
      ],
      "execution_count": 1223,
      "outputs": [
        {
          "output_type": "execute_result",
          "data": {
            "text/html": [
              "<div>\n",
              "<style scoped>\n",
              "    .dataframe tbody tr th:only-of-type {\n",
              "        vertical-align: middle;\n",
              "    }\n",
              "\n",
              "    .dataframe tbody tr th {\n",
              "        vertical-align: top;\n",
              "    }\n",
              "\n",
              "    .dataframe thead th {\n",
              "        text-align: right;\n",
              "    }\n",
              "</style>\n",
              "<table border=\"1\" class=\"dataframe\">\n",
              "  <thead>\n",
              "    <tr style=\"text-align: right;\">\n",
              "      <th></th>\n",
              "      <th>0</th>\n",
              "      <th>1</th>\n",
              "    </tr>\n",
              "  </thead>\n",
              "  <tbody>\n",
              "    <tr>\n",
              "      <th>0</th>\n",
              "      <td>0.078585</td>\n",
              "      <td>0.178323</td>\n",
              "    </tr>\n",
              "    <tr>\n",
              "      <th>1</th>\n",
              "      <td>0.496071</td>\n",
              "      <td>0.692516</td>\n",
              "    </tr>\n",
              "    <tr>\n",
              "      <th>2</th>\n",
              "      <td>0.958743</td>\n",
              "      <td>0.955892</td>\n",
              "    </tr>\n",
              "  </tbody>\n",
              "</table>\n",
              "</div>"
            ],
            "text/plain": [
              "          0         1\n",
              "0  0.078585  0.178323\n",
              "1  0.496071  0.692516\n",
              "2  0.958743  0.955892"
            ]
          },
          "metadata": {
            "tags": []
          },
          "execution_count": 1223
        }
      ]
    },
    {
      "cell_type": "code",
      "metadata": {
        "colab": {
          "base_uri": "https://localhost:8080/",
          "height": 295
        },
        "id": "JT6ziYwHw03T",
        "outputId": "4dbe5308-29fb-4c1d-bbf0-26b9eb88f09a"
      },
      "source": [
        "red = data_set[np.where(np.array(new_assignation_hcm3)[:,0]==1)]\n",
        "blue = data_set[np.where(np.array(new_assignation_hcm3)[:,1]==1)]\n",
        "green = data_set[np.where(np.array(new_assignation_hcm3)[:,2]==1)]\n",
        "\n",
        "fig, ax = plt.subplots()\n",
        "\n",
        "ax.scatter(blue[:,0],blue[:,1],c='blue')\n",
        "ax.scatter(red[:,0],red[:,1],c='red')\n",
        "ax.scatter(green[:,0],green[:,1],c='green')\n",
        "ax.scatter(np.array(new_centers_hcm3)[:,0],np.array(new_centers_hcm3)[:,1],c='black')\n",
        "ax.set(xlabel='Seats count', ylabel='Distance range (km)',\n",
        "       title='Aircrafts (clusters)')\n",
        "ax.grid()\n",
        "plt.show()"
      ],
      "execution_count": 1224,
      "outputs": [
        {
          "output_type": "display_data",
          "data": {
            "image/png": "[encoded data removed]",
            "text/plain": [
              "<Figure size 432x288 with 1 Axes>"
            ]
          },
          "metadata": {
            "tags": [],
            "needs_background": "light"
          }
        }
      ]
    },
    {
      "cell_type": "markdown",
      "metadata": {
        "id": "ZJC-cDH5-hqe"
      },
      "source": [
        "### Exercise 2"
      ]
    },
    {
      "cell_type": "code",
      "metadata": {
        "id": "24HaojtkCv3_"
      },
      "source": [
        "%store -r data_set"
      ],
      "execution_count": 1225,
      "outputs": []
    },
    {
      "cell_type": "code",
      "metadata": {
        "id": "yO29bAYCC13c"
      },
      "source": [
        "assignation = np.zeros(len(data_set))\n",
        "distance_matrix = np.zeros((len(data_set), len(data_set)))\n",
        "max_distance = 0.25\n",
        "number_of_cluster = 0\n",
        "min_points = 2"
      ],
      "execution_count": 1226,
      "outputs": []
    },
    {
      "cell_type": "code",
      "metadata": {
        "id": "JlLA0jsUC7Iy"
      },
      "source": [
        "def calculate_distance_matrix():\n",
        "    distance_matrix = np.zeros((len(data_set),len(data_set)))\n",
        "    for i in range(len(data_set)):\n",
        "        for j in range(len(data_set)):\n",
        "            distance_matrix[i, j] = calculate_distance(data_set[i], data_set[j])\n",
        "    return distance_matrix"
      ],
      "execution_count": 1227,
      "outputs": []
    },
    {
      "cell_type": "code",
      "metadata": {
        "id": "pXZHveaRDWxE"
      },
      "source": [
        "def get_closest_elements(distance_matrix, element_id):\n",
        "    element_distances = distance_matrix[element_id]\n",
        "    filtered = {}\n",
        "    iter = 0\n",
        "    for element in element_distances:\n",
        "        if element < max_distance:\n",
        "            filtered[iter] = element\n",
        "        iter = iter + 1\n",
        "    return filtered"
      ],
      "execution_count": 1228,
      "outputs": []
    },
    {
      "cell_type": "code",
      "metadata": {
        "id": "h9BJ8x76DZCn"
      },
      "source": [
        "def set_as_noise(assignation,element_id):\n",
        "    assignation[element_id] = -1\n",
        "    return assignation\n",
        "    \n",
        "def set_visited(elements, assignation, number_of_clusters):    \n",
        "    for element_id in elements.keys():\n",
        "        assignation[element_id] = number_of_clusters \n",
        "    return assignation"
      ],
      "execution_count": 1229,
      "outputs": []
    },
    {
      "cell_type": "code",
      "metadata": {
        "id": "NWN5pq4HDbuo"
      },
      "source": [
        "def cluster_density(assignation):\n",
        "    number_of_cluster = 0\n",
        "    distance_matrix = calculate_distance_matrix()\n",
        "    element_ids = list(range(len(data_set)))\n",
        "    random.shuffle(element_ids)\n",
        "    for i in element_ids:\n",
        "        if assignation[i] != 0:\n",
        "            continue\n",
        "        closest = get_closest_elements(distance_matrix, i)\n",
        "        if len(closest) < min_points:\n",
        "            assignation = set_as_noise(assignation,i)\n",
        "        else:\n",
        "            assignation = set_visited(closest, assignation, number_of_cluster)\n",
        "            number_of_cluster = number_of_cluster + 1\n",
        "    return assignation"
      ],
      "execution_count": 1230,
      "outputs": []
    },
    {
      "cell_type": "code",
      "metadata": {
        "id": "8l1Su021-lWZ"
      },
      "source": [
        "new_assignation_density = cluster_density(assignation)\n",
        "# %store -r new_assignation_density"
      ],
      "execution_count": 1231,
      "outputs": []
    },
    {
      "cell_type": "code",
      "metadata": {
        "colab": {
          "base_uri": "https://localhost:8080/"
        },
        "id": "uNFcBY2aBvVm",
        "outputId": "610b6542-15ba-4b6c-c1e3-8992ecd91072"
      },
      "source": [
        "\n",
        "\n",
        "colors = ['red','blue','green','orange','black','yellow']\n",
        "    \n",
        "def get_group_objects(id):\n",
        "  indexes = np.where(new_assignation_density == id)\n",
        "  return data_set[indexes]\n",
        "  \n",
        "print(small_set)"
      ],
      "execution_count": 1232,
      "outputs": [
        {
          "output_type": "stream",
          "text": [
            "[[0.91748527 0.94363057]\n",
            " [1.         0.96815287]]\n"
          ],
          "name": "stdout"
        }
      ]
    },
    {
      "cell_type": "code",
      "metadata": {
        "colab": {
          "base_uri": "https://localhost:8080/",
          "height": 295
        },
        "id": "y46vHLCcByJY",
        "outputId": "b4bb9f7a-8407-4b1f-c83b-f0cb62094f6b"
      },
      "source": [
        "colors = ['red','blue','green','orange','black','yellow']\n",
        "\n",
        "fig, ax = plt.subplots()\n",
        "\n",
        "assigned_groups = new_assignation_density\n",
        "for group in np.unique(assigned_groups):\n",
        "    small_set = get_group_objects(group) \n",
        "    ax.scatter(small_set[:,0],small_set[:,1],c=colors.pop(0))\n",
        "    for circle in small_set:\n",
        "        circle1 = plt.Circle((circle[0],circle[1]), 0.25, color='green', fill=False)        \n",
        "        ax.add_artist(circle1)\n",
        "    \n",
        "ax.set(xlabel='Seats count', ylabel='Distance range (km)',title='Aircrafts (clusters)')\n",
        "ax.grid()\n",
        "plt.show()"
      ],
      "execution_count": 1233,
      "outputs": [
        {
          "output_type": "display_data",
          "data": {
            "image/png": "[encoded data removed]",
            "text/plain": [
              "<Figure size 432x288 with 1 Axes>"
            ]
          },
          "metadata": {
            "tags": [],
            "needs_background": "light"
          }
        }
      ]
    },
    {
      "cell_type": "markdown",
      "metadata": {
        "id": "qn7MmKAg_1eg"
      },
      "source": [
        "### Exercise 3"
      ]
    },
    {
      "cell_type": "code",
      "metadata": {
        "id": "hSBKdOZQr8Wu"
      },
      "source": [
        "\n",
        "\n",
        "def choose_cluster(current_level, distance_matrix):\n",
        "    if type(current_level[0]) != list:\n",
        "        both_idx = np.array(current_level)\n",
        "        current = distance_matrix[both_idx[:,None], both_idx]\n",
        "        diff = np.sum(current) / (current.shape[0] * current.shape[1] - len(current))\n",
        "        return current_level, diff, 0\n",
        "    highest_diff = 0\n",
        "    cluster_id = 0\n",
        "    for i in range(len(current_level)):\n",
        "        both_idx = np.array(current_level[i])\n",
        "        current = distance_matrix[both_idx[:, None], both_idx]\n",
        "        diff = np.sum(current) / (current.shape[0] * current.shape[1]-len(current))\n",
        "        if diff > highest_diff:\n",
        "            highest_diff = diff\n",
        "            cluster_id = i\n",
        "    return current_level[cluster_id], highest_diff, cluster_id\n",
        "\n"
      ],
      "execution_count": 1234,
      "outputs": []
    },
    {
      "cell_type": "code",
      "metadata": {
        "id": "_nhlI03trq9k"
      },
      "source": [
        "\n",
        "\n",
        "def calculate_dendogram_distance_matrix_diana():\n",
        "    distance_matrix=np.zeros((len(data_set), len(data_set)))\n",
        "    for i in range(len(data_set)):\n",
        "        for j in range(len(data_set)):\n",
        "            distance_matrix[i, j] = calculate_distance(calculate_centroid(data_set[i]),calculate_centroid(data_set[j]))\n",
        "    return distance_matrix\n",
        "\n"
      ],
      "execution_count": 1235,
      "outputs": []
    },
    {
      "cell_type": "code",
      "metadata": {
        "id": "vUZD0NTdsAk8"
      },
      "source": [
        "def split(split_cluster, distance_matrix, diff):\n",
        "    if len(split_cluster) == 2:\n",
        "        cluster1 = [split_cluster[0]]\n",
        "        cluster2 = [split_cluster[1]]\n",
        "        return cluster1, cluster2\n",
        "    split_threshold = diff\n",
        "    both_idx = np.array(split_cluster)\n",
        "    distances = distance_matrix[both_idx[:, None], both_idx]\n",
        "    c1keys, c1counts = np.unique(np.argwhere(distances > split_threshold), return_counts=True)\n",
        "    c2keys, c2counts = np.unique(np.argwhere(distances <= split_threshold), return_counts=True)\n",
        "    cluster1_counts = dict(zip(np.array(split_cluster)[c1keys], c1counts))\n",
        "    cluster2_counts = dict(zip(np.array(split_cluster)[c2keys], c2counts))\n",
        "    cluster1 = []\n",
        "    cluster2 = []\n",
        "    choice = 0\n",
        "    for item in split_cluster:\n",
        "        if item not in cluster1_counts.keys():\n",
        "            cluster2.append(item)\n",
        "            continue\n",
        "        if item not in cluster2_counts.keys():\n",
        "            cluster1.append(item)\n",
        "            continue\n",
        "        if cluster1_counts[item] < cluster2_counts[item]:\n",
        "            cluster2.append(item)\n",
        "        elif cluster1_counts[item] > cluster2_counts[item]:\n",
        "            cluster1.append(item)\n",
        "        else:\n",
        "            if choice == 0:\n",
        "                cluster2.append(item)\n",
        "                choice = 1\n",
        "            else:\n",
        "                cluster1.append(item)\n",
        "                choice = 0\n",
        "    return cluster1, cluster2"
      ],
      "execution_count": 1236,
      "outputs": []
    },
    {
      "cell_type": "code",
      "metadata": {
        "id": "nIuizVJAmDDj"
      },
      "source": [
        "def cluster():\n",
        "    dendrograms_history=[]\n",
        "    current_dendrograms=[list(range(len(data_set)))]\n",
        "    distance_matrix = calculate_dendogram_distance_matrix_diana()\n",
        "    while len(current_dendrograms) != len(data_set):\n",
        "        current_level = current_dendrograms[-1]\n",
        "        current_cluster, diff, cluster_id = choose_cluster(current_level, distance_matrix)\n",
        "        cluster1, cluster2 = split(current_cluster, distance_matrix, diff)\n",
        "        if type(current_level[0]) != list:\n",
        "            current_dendrograms.append([cluster1, cluster2])\n",
        "        else:\n",
        "            rest = current_level.copy()\n",
        "            rest.pop(cluster_id)\n",
        "            rest.append(cluster1)\n",
        "            rest.append(cluster2)\n",
        "            current_dendrograms.append(rest)\n",
        "        hist = [{\"acesor\": current_cluster, \"childs\": [cluster1,cluster2]}]\n",
        "        dendrograms_history.append(hist)\n",
        "    return dendrograms_history"
      ],
      "execution_count": 1237,
      "outputs": []
    },
    {
      "cell_type": "code",
      "metadata": {
        "id": "fSnsC4RNuKGG"
      },
      "source": [
        "# dendrogram_hist_diana = cluster()"
      ],
      "execution_count": 1238,
      "outputs": []
    },
    {
      "cell_type": "markdown",
      "metadata": {
        "id": "4BA3m2zouhHD"
      },
      "source": [
        "### Exercise 4"
      ]
    },
    {
      "cell_type": "code",
      "metadata": {
        "id": "sAin8IFqukod"
      },
      "source": [
        "new_assignation_hcm, new_centers_hcm = cluster_hcm(assignation, centers)\n",
        "new_centers_hcm3 = np.array([[0.42239686, 0.38503185],[0.07858546, 0.17832272],[0.82907662, 0.97059448]])"
      ],
      "execution_count": 1239,
      "outputs": []
    },
    {
      "cell_type": "code",
      "metadata": {
        "id": "B0TzWoPey-mP"
      },
      "source": [
        "def calculate_s_2(centers):\n",
        "    s2 = []\n",
        "    for center_1 in range(len(centers)):\n",
        "        for center_2 in range(len(centers)):\n",
        "            if center_1 == center_2:\n",
        "                break\n",
        "            s2.append(calculate_distance(centers[center_1], centers[center_2]))\n",
        "    return s2"
      ],
      "execution_count": 1240,
      "outputs": []
    },
    {
      "cell_type": "code",
      "metadata": {
        "colab": {
          "base_uri": "https://localhost:8080/"
        },
        "id": "aJ2eQKd2zNnm",
        "outputId": "ac5fae95-99dd-453a-9e0e-4ec46a1f8f27"
      },
      "source": [
        "s2_2 = calculate_s_2(new_centers_hcm)\n",
        "s2_3 = calculate_s_2(new_centers_hcm3)\n",
        "\n",
        "print(s2_2)\n",
        "print(s2_3)"
      ],
      "execution_count": 1241,
      "outputs": [
        {
          "output_type": "stream",
          "text": [
            "[0.6623357152687431, 1.1744318620467624, 0.5323834166597256]\n",
            "[0.40116697670087065, 0.7129319889345509, 1.0912980907761376]\n"
          ],
          "name": "stdout"
        }
      ]
    },
    {
      "cell_type": "markdown",
      "metadata": {
        "id": "F4ERfbgN09I6"
      },
      "source": [
        "### Exercise 5"
      ]
    },
    {
      "cell_type": "code",
      "metadata": {
        "id": "QTzZU4LZ4ns4"
      },
      "source": [
        "import PIL"
      ],
      "execution_count": 1242,
      "outputs": []
    },
    {
      "cell_type": "code",
      "metadata": {
        "id": "f1PnG2Lj1CDq"
      },
      "source": [
        "class Segmentation:\n",
        "\n",
        "    def __init__(self, feature_matrix, groups):\n",
        "        self.__data_set = feature_matrix\n",
        "        self.__groups = groups\n",
        "        self.__space=[[0, 255], [0, 255], [0, 255]]\n",
        "        self.__error_margin = 0.5\n",
        "        self.assignation = np.zeros((len(self.__data_set), self.__groups))\n",
        "        self.centers = []\n",
        "        self.select_centers()\n",
        "\n",
        "    def select_centers(self):\n",
        "        if len(self.centers) == 0:\n",
        "            iter=0\n",
        "            while iter<self.__groups:\n",
        "                self.centers.append(((random.randrange(0, 255)*1.0/255),\n",
        "                                     (random.randrange(0, 255)*1.0/255),\n",
        "                                     (random.randrange(0, 255)*1.0/255)))\n",
        "                iter=iter+1\n",
        "\n",
        "    def calculate_distance(self, x, v):\n",
        "        return sqrt((x[0]-v[0])**2+(x[1]-v[1])**2+(x[2]-v[2])**2)\n",
        "\n",
        "    def calculate_u(self, x, i):\n",
        "        smallest_distance = float(self.calculate_distance(x, self.centers[0]))\n",
        "        smallest_id = 0\n",
        "        for i in range(1, self.__groups):\n",
        "            distance = self.calculate_distance(x, self.centers[i])\n",
        "            if distance < smallest_distance:\n",
        "                smallest_id = i\n",
        "                smallest_distance = distance\n",
        "        distance = np.zeros(self.__groups)\n",
        "        distance[smallest_id]=1\n",
        "        return distance\n",
        "\n",
        "    def calculate_new_centers(self, u):\n",
        "        new_centers=[]\n",
        "        for c in range(self.__groups):\n",
        "            u_x_vector = np.zeros(len(self.centers[0]))\n",
        "            u_scalar = 0\n",
        "            for i in range(len(u)):\n",
        "                u_scalar = u_scalar + u[i][c]\n",
        "                u_x_vector = np.add(u_x_vector, np.multiply(u[i][c], self.__data_set[i]))\n",
        "            new_centers.append(np.divide(u_x_vector,u_scalar))\n",
        "        self.centers = new_centers\n",
        "\n",
        "    def calculate_differences(self,new_assignation):\n",
        "        diff=0\n",
        "        for i in range(len(self.assignation)):\n",
        "            for j in range(self.__groups):\n",
        "                diff = diff + abs(float(new_assignation[i][j]) - float(self.assignation[i][j]))\n",
        "        return diff\n",
        "\n",
        "    def do_segmentation(self):\n",
        "        difference_limit_not_achieved = True\n",
        "        iter = 0\n",
        "        while difference_limit_not_achieved:\n",
        "            new_assignation = []\n",
        "            for i in range(len(self.__data_set)):\n",
        "                new_assignation.append(self.calculate_u(self.__data_set[i], iter))\n",
        "            self.calculate_new_centers(new_assignation)\n",
        "\n",
        "            if iter > 0:\n",
        "                if self.calculate_differences(new_assignation) < self.__error_margin:\n",
        "                    difference_limit_not_achieved=False\n",
        "            self.assignation = new_assignation\n",
        "            iter = iter + 1\n",
        "\n",
        "    def get_results(self):\n",
        "        return self.centers, self.assignation"
      ],
      "execution_count": 1243,
      "outputs": []
    },
    {
      "cell_type": "code",
      "metadata": {
        "id": "whuOcdTd1GLQ"
      },
      "source": [
        "\n",
        "\n",
        "class ImageConversion:\n",
        "\n",
        "    def get_image_from_url(self, img_url):\n",
        "        image = open(img_url,'rb')\n",
        "        return img.imread(image)\n",
        "\n",
        "    def get_unique_colours(self, image_matrix):\n",
        "        feature_matrix = []\n",
        "        for i in range(len(image_matrix)):\n",
        "            for j in range(len(image_matrix[0])):\n",
        "                feature_matrix.append(image_matrix[i, j])\n",
        "        feature_matrix_np = np.array(feature_matrix)\n",
        "        uniques, index = np.unique([str(i) for i in feature_matrix_np], return_index=True)\n",
        "        return feature_matrix_np[index], feature_matrix\n",
        "\n",
        "    def save_image(self, size, pixel_matrix, unique_matrix, assignation_matrix, colours, output):\n",
        "        image_out = PIL.Image.new(\"RGB\", size)\n",
        "        pixels = []\n",
        "        current_pixel = None ## added\n",
        "        for i in range(len(pixel_matrix)):\n",
        "            pixel_list = pixel_matrix[i].tolist()\n",
        "            for j in range(len(unique_matrix)):\n",
        "                if (pixel_list == unique_matrix[j].tolist()):\n",
        "                    for k in range(len(colours)):\n",
        "                        if assignation_matrix[j][k] == 1:\n",
        "                            segmented_colours = [int(i) for i in (colours[k] * 255)]\n",
        "                            \n",
        "                            pixels.append(tuple(segmented_colours))\n",
        "        image_out.putdata(pixels)\n",
        "        image_out.save(output)\n",
        " \n",
        "\n",
        "    def do_segmentation(self):\n",
        "        difference_limit_not_achieved = True\n",
        "        iter = 0\n",
        "        while difference_limit_not_achieved:\n",
        "            new_assignation = []\n",
        "            for i in range(len(self.__data_set)):\n",
        "                new_assignation.append(self.calculate_u(self.__data_set[i], iter))\n",
        "            self.calculate_new_centers(new_assignation)\n",
        "            if iter > 0:\n",
        "                if self.calculate_differences(new_assignation) < self.__error_margin:\n",
        "                    difference_limit_not_achieved=False\n",
        "            self.assignation = new_assignation\n",
        "            iter = iter + 1\n",
        "\n",
        "    def get_results(self):\n",
        "        return self.centers, self.assignation\n",
        "\n"
      ],
      "execution_count": 1244,
      "outputs": []
    },
    {
      "cell_type": "code",
      "metadata": {
        "id": "9enFl1S71JZi"
      },
      "source": [
        "\n",
        "\n",
        "image_to_segment = \"logo_krakow.png\"\n",
        "image_converter = ImageConversion()\n",
        "image_data = image_converter.get_image_from_url(image_to_segment)\n",
        "unique_image_data, image_data_list = image_converter.get_unique_colours(image_data)\n",
        "\n",
        "groups = 3\n",
        "\n",
        "segmentation = Segmentation(unique_image_data, groups)\n",
        "segmentation.do_segmentation()\n",
        "centers, assignation_matrix = segmentation.get_results()\n",
        "\n",
        "image_size = (232, 258)\n",
        "image_converter.save_image(image_size, image_data_list, unique_image_data, assignation_matrix, centers, \"segmented.png\")\n",
        "\n"
      ],
      "execution_count": 1245,
      "outputs": []
    },
    {
      "cell_type": "code",
      "metadata": {
        "colab": {
          "base_uri": "https://localhost:8080/",
          "height": 275
        },
        "id": "wNO81fHG1K_G",
        "outputId": "d09b1d93-036f-4e63-f9dd-f9ec6f84f493"
      },
      "source": [
        "\n",
        "\n",
        "from IPython.display import Image\n",
        "Image(\"segmented.png\")\n",
        "\n"
      ],
      "execution_count": 1246,
      "outputs": [
        {
          "output_type": "execute_result",
          "data": {
            "image/png": "[encoded data removed]",
            "text/plain": [
              "<IPython.core.display.Image object>"
            ]
          },
          "metadata": {
            "tags": []
          },
          "execution_count": 1246
        }
      ]
    }
  ]
}